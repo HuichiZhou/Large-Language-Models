{
 "cells": [
  {
   "cell_type": "code",
   "execution_count": 1,
   "metadata": {},
   "outputs": [
    {
     "name": "stdout",
     "output_type": "stream",
     "text": [
      "[[[-0.53921787  0.72184176  0.60832651  0.55228343]\n",
      "  [-0.43322717 -0.65187728 -0.4368168  -0.89738358]\n",
      "  [-0.95602825 -0.38623994 -0.7845921  -0.5377883 ]\n",
      "  [ 0.56848153  0.92388988  0.06632717  0.09261397]]]\n"
     ]
    }
   ],
   "source": [
    "import networkx as nx\n",
    "import numpy as np\n",
    "\n",
    "def align_networks(X, Y):\n",
    "    L = len(X)  # 获取层数\n",
    "    aligned_Y = Y.copy()  # 创建Y的副本以进行对齐\n",
    "\n",
    "    for l in range(L):  # 遍历每一层\n",
    "        n = X[l].shape[0]  # 获取层l的单元数量\n",
    "\n",
    "        # 创建S和R，分别表示网络X和Y的权重向量集合\n",
    "        S = [tuple(weights) for weights in X[l]]\n",
    "        R = [tuple(weights) for weights in Y[l]]  +  [tuple(-weights) for weights in Y[l]]\n",
    "        \n",
    "        # 创建二部图\n",
    "        B = nx.Graph()\n",
    "        B.add_nodes_from([(s, {'bipartite': 0}) for s in S])\n",
    "        B.add_nodes_from([(r, {'bipartite': 1}) for r in R])\n",
    "        \n",
    "        threshold = 0.05  # 设置一个阈值来确定何时创建边\n",
    "        B.add_edges_from([(s, r) for s in S for r in R if np.linalg.norm(np.array(s) - np.array(r)) <= threshold])\n",
    "\n",
    "\n",
    "        # 计算最大二部匹配\n",
    "        K = nx.bipartite.maximum_matching(B, top_nodes=set(S))\n",
    "        \n",
    "        # 处理匹配结果\n",
    "        new_layer = np.zeros_like(aligned_Y[l])  # 创建一个新层来存储交换后的结果\n",
    "        for i in range(n):\n",
    "            matching_node = K.get((S[i]))\n",
    "            if matching_node in R:\n",
    "                idx_in_Y = R.index(matching_node) % aligned_Y[l].shape[0]\n",
    "                new_layer[i] = aligned_Y[l][idx_in_Y]  # 更新新层的权重\n",
    "                if tuple(-np.array(matching_node)) in R:  # 检查负权重匹配\n",
    "                    new_layer[i] *= -1  # 反转该单元的输出\n",
    "        \n",
    "        aligned_Y[l] = new_layer  # 更新对齐后的网络Y的层\n",
    "        \n",
    "    return aligned_Y  # 返回对齐后的网络Y\n",
    "\n",
    "# 使用您提供的X和Y测试align_networks函数\n",
    "X = np.array([[[-0.5488135 , 0.71518937, 0.60276338, 0.54488318],\n",
    "         [0.4236548 , 0.64589411, 0.43758721, 0.891773  ],\n",
    "         [0.96366276, 0.38344152, 0.79172504, 0.52889492],\n",
    "         [0.56804456, 0.92559664, 0.07103606, 0.0871293 ]]])\n",
    "             \n",
    "Y = np.array([[[-0.53921787, 0.72184176, 0.60832651, 0.55228343],\n",
    "         [-0.43322717, -0.65187728, -0.4368168 , -0.89738358],\n",
    "         [-0.95602825, -0.38623994, -0.7845921 , -0.5377883 ],\n",
    "         [0.56848153, 0.92388988, 0.06632717, 0.09261397]]])\n",
    "aligned_Y = align_networks(X, Y)\n",
    "print(-aligned_Y)"
   ]
  },
  {
   "cell_type": "code",
   "execution_count": 2,
   "metadata": {},
   "outputs": [
    {
     "data": {
      "text/plain": [
       "(array([[[-0.5488135 ,  0.71518937,  0.60276338,  0.54488318],\n",
       "         [ 0.4236548 ,  0.64589411,  0.43758721,  0.891773  ],\n",
       "         [ 0.96366276,  0.38344152,  0.79172504,  0.52889492],\n",
       "         [ 0.56804456,  0.92559664,  0.07103606,  0.0871293 ]]]),\n",
       " array([[[-0.53921787,  0.72184176,  0.60832651,  0.55228343],\n",
       "         [-0.43322717, -0.65187728, -0.4368168 , -0.89738358],\n",
       "         [-0.95602825, -0.38623994, -0.7845921 , -0.5377883 ],\n",
       "         [ 0.56848153,  0.92388988,  0.06632717,  0.09261397]]]))"
      ]
     },
     "execution_count": 2,
     "metadata": {},
     "output_type": "execute_result"
    }
   ],
   "source": [
    "X, Y "
   ]
  }
 ],
 "metadata": {
  "kernelspec": {
   "display_name": "llmft",
   "language": "python",
   "name": "python3"
  },
  "language_info": {
   "codemirror_mode": {
    "name": "ipython",
    "version": 3
   },
   "file_extension": ".py",
   "mimetype": "text/x-python",
   "name": "python",
   "nbconvert_exporter": "python",
   "pygments_lexer": "ipython3",
   "version": "3.10.12"
  }
 },
 "nbformat": 4,
 "nbformat_minor": 2
}

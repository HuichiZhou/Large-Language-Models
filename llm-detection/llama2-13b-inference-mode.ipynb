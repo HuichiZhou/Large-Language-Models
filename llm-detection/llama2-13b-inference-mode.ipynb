{
 "cells": [
  {
   "cell_type": "markdown",
   "metadata": {},
   "source": [
    "# CHAT INFERENCE MODE\n"
   ]
  },
  {
   "cell_type": "code",
   "execution_count": 1,
   "metadata": {},
   "outputs": [
    {
     "name": "stderr",
     "output_type": "stream",
     "text": [
      "/home/zhaoyang/.conda/envs/py310/lib/python3.10/site-packages/tqdm/auto.py:21: TqdmWarning: IProgress not found. Please update jupyter and ipywidgets. See https://ipywidgets.readthedocs.io/en/stable/user_install.html\n",
      "  from .autonotebook import tqdm as notebook_tqdm\n"
     ]
    }
   ],
   "source": [
    "import torch\n",
    "from transformers import AutoModelForCausalLM, AutoTokenizer, BitsAndBytesConfig, pipeline"
   ]
  },
  {
   "cell_type": "code",
   "execution_count": 2,
   "metadata": {},
   "outputs": [
    {
     "name": "stderr",
     "output_type": "stream",
     "text": [
      "/home/zhaoyang/.conda/envs/py310/lib/python3.10/site-packages/transformers/models/auto/auto_factory.py:472: FutureWarning: The `use_auth_token` argument is deprecated and will be removed in v5 of Transformers. Please use `token` instead.\n",
      "  warnings.warn(\n",
      "Loading checkpoint shards:   0%|          | 0/3 [00:00<?, ?it/s]"
     ]
    }
   ],
   "source": [
    "base_model_name = \"/home/zhaoyang/Documents/hf_models/meta-llama/Llama-2-13b-chat-hf\"\n",
    "\n",
    "bnb_config = BitsAndBytesConfig(\n",
    "    load_in_4bit=True,\n",
    "    bnb_4bit_quant_type=\"nf4\",\n",
    "    bnb_4bit_compute_dtype=torch.float16,\n",
    ")\n",
    "\n",
    "device_map = {\"\": 0}\n",
    "\n",
    "base_model = AutoModelForCausalLM.from_pretrained(\n",
    "    base_model_name,\n",
    "    quantization_config=bnb_config,\n",
    "    device_map=device_map,\n",
    "    trust_remote_code=True,\n",
    "    use_auth_token=True\n",
    ")\n",
    "\n",
    "base_model.config.use_cache = False\n",
    "\n",
    "base_model.config.pretraining_tp = 1 \n"
   ]
  },
  {
   "cell_type": "code",
   "execution_count": null,
   "metadata": {},
   "outputs": [],
   "source": [
    "tokenizer = AutoTokenizer.from_pretrained(base_model_name, trust_remote_code=True)\n",
    "tokenizer.pad_token = tokenizer.eos_token"
   ]
  },
  {
   "cell_type": "code",
   "execution_count": null,
   "metadata": {},
   "outputs": [],
   "source": [
    "dialogs = \"\"\"\\\n",
    "[INST] <>\n",
    "You are a helpful, respectful and honest sentiment analysis assistant. Analyze two sentences for semantic inversion. Consider the adversarial sentence, which employs word substitution leading to dissimilar meanings. Assess if the change maintains legal and logical consistency. Provide a binary response of the user's message into one of the following categories: legal or illegal.\n",
    "<>\n",
    "\n",
    "Here is an inference example:\n",
    "Sentence: Original->The cat sat on the mat. Adversarial->The cat sat on the hat.\n",
    "Sentiment: [/INST] illegal [INST] Here is another inference example:\n",
    "Sentence: Original->He quickly finished his homework. Adversarial->He quickly completed his homework.\n",
    "Sentiment: [/INST] legal [INST] Please classify the sentiment of the following sentence into legal or illegal:\n",
    "Sentence: Original->this goofy gangster yarn never really elevates itself from being yet another earnestly generic crime busting comic vehicle a well intentioned remake that shows some spunk and promise but fails to register as anything distinctive or daring. Adversarial->this goofy gangster yarn never really elevates itself from being yet another earnestly generic crime busting comic vehicle a well intentioned remake that shows some spunk and promise but overlooking to register as everythings distinctive or daring.\n",
    "Sentiment: [/INST] \n",
    "\"\"\""
   ]
  },
  {
   "cell_type": "code",
   "execution_count": null,
   "metadata": {},
   "outputs": [
    {
     "name": "stdout",
     "output_type": "stream",
     "text": [
      "[INST] <>\n",
      "You are a helpful, respectful and honest sentiment analysis assistant. Analyze two sentences for semantic inversion. Consider the adversarial sentence, which employs word substitution leading to dissimilar meanings. Assess if the change maintains legal and logical consistency. Provide a binary response of the user's message into one of the following categories: legal or illegal.\n",
      "<>\n",
      "\n",
      "Here is an inference example:\n",
      "Sentence: Original->The cat sat on the mat. Adversarial->The cat sat on the hat.\n",
      "Sentiment: [/INST] illegal [INST] Here is another inference example:\n",
      "Sentence: Original->He quickly finished his homework. Adversarial->He quickly completed his homework.\n",
      "Sentiment: [/INST] legal [INST] Please classify the sentiment of the following sentence into legal or illegal:\n",
      "Sentence: Original->this goofy gangster yarn never really elevates itself from being yet another earnestly generic crime busting comic vehicle a well intentioned remake that shows some spunk and promise but fails to register as anything distinctive or daring. Adversarial->this goofy gangster yarn never really elevates itself from being yet another earnestly generic crime busting comic vehicle a well intentioned remake that shows some spunk and promise but overlooking to register as everythings distinctive or daring.\n",
      "Sentiment: [/INST] \n",
      "illegal. The adversarial sentence employs word substitution, specifically \"elevates\" and \"overlooking,\" which lead to dissimilar meanings compared to the original sentence. The change in wording results in a legal sentence, as it maintains the same grammatical structure and meaning as the original sentence.\n"
     ]
    }
   ],
   "source": [
    "\n",
    "inputs = tokenizer(dialogs, return_tensors=\"pt\").to(\"cuda\")\n",
    "outputs = base_model.generate(input_ids=inputs[\"input_ids\"].to(\"cuda\"), attention_mask=inputs[\"attention_mask\"], max_new_tokens=100, pad_token_id=tokenizer.eos_token_id)\n",
    "\n",
    "print(tokenizer.decode(outputs[0], skip_special_tokens=True))"
   ]
  },
  {
   "cell_type": "markdown",
   "metadata": {},
   "source": [
    "# Test Inference Mode 1"
   ]
  },
  {
   "cell_type": "code",
   "execution_count": null,
   "metadata": {},
   "outputs": [
    {
     "name": "stdout",
     "output_type": "stream",
     "text": [
      "<s> You are a helpful, respectful and honest sentiment analysis assistant. Analyze two sentences for semantic inversion. Consider the adversarial sentence, which employs word substitution leading to dissimilar meanings. Assess if the change maintains legal and logical consistency. Provide a binary response of the user's message into one of the following categories: legal or illegal.\n",
      "Here is an inference example:\n",
      "Sentence: Original->The cat sat on the mat. Adversarial->The cat sat on the hat.\n",
      "Sentiment: illegal\n",
      "\n",
      "Here is another inference example:\n",
      "Sentence: Original->He quickly finished his homework. Adversarial->He quickly completed his homework.\n",
      "Sentiment: legal\n",
      "\n",
      "Sentence: Original->this goofy gangster yarn never really elevates itself from being yet another earnestly generic crime busting comic vehicle a well intentioned remake that shows some spunk and promise but fails to register as anything distinctive or daring. Adversarial->this goofy gangster yarn never really elevates itself from being yet another earnestly generic crime busting comic vehicle a well intentioned remake that shows some spunk and promise but overlooking to register as everythings distinctive or daring.\n",
      "Sentiment:  illegal\n",
      "\n",
      "Please provide your analysis of these sentences.</s>\n"
     ]
    }
   ],
   "source": [
    "system_prompt = \"You are a helpful, respectful and honest sentiment analysis assistant. Analyze two sentences for semantic inversion. Consider the adversarial sentence, which employs word substitution leading to dissimilar meanings. Assess if the change maintains legal and logical consistency. Provide a binary response of the user's message into one of the following categories: legal or illegal.\"\n",
    "sentence = \"Original->this goofy gangster yarn never really elevates itself from being yet another earnestly generic crime busting comic vehicle a well intentioned remake that shows some spunk and promise but fails to register as anything distinctive or daring. Adversarial->this goofy gangster yarn never really elevates itself from being yet another earnestly generic crime busting comic vehicle a well intentioned remake that shows some spunk and promise but overlooking to register as everythings distinctive or daring.\"\n",
    "examples = \"\"\"\n",
    "Here is an inference example:\n",
    "Sentence: Original->The cat sat on the mat. Adversarial->The cat sat on the hat.\n",
    "Sentiment: illegal\n",
    "\n",
    "Here is another inference example:\n",
    "Sentence: Original->He quickly finished his homework. Adversarial->He quickly completed his homework.\n",
    "Sentiment: legal\n",
    "\"\"\"\n",
    "\n",
    "# text = system_prompt + \"\\n\" + user_msg_1 + \"\\n\" + \"Sentiment:\"\n",
    "text = system_prompt + examples + \"\\n\" + \"Sentence: \" + sentence + \"\\n\" + \"Sentiment: \"\n",
    "\n",
    "inputs = tokenizer(text, return_tensors=\"pt\").to(\"cuda\")\n",
    "outputs = base_model.generate(input_ids=inputs[\"input_ids\"].to(\"cuda\"), attention_mask=inputs[\"attention_mask\"], max_new_tokens=100, pad_token_id=tokenizer.eos_token_id)\n",
    "\n",
    "print(tokenizer.decode(outputs[0], skip_special_tokens=False))"
   ]
  },
  {
   "cell_type": "markdown",
   "metadata": {},
   "source": [
    "# Inference Mode 2\n"
   ]
  },
  {
   "cell_type": "code",
   "execution_count": null,
   "metadata": {},
   "outputs": [
    {
     "name": "stdout",
     "output_type": "stream",
     "text": [
      "You are a helpful, respectful and honest sentiment analysis assistant. Analyze two sentences for semantic inversion. Consider the adversarial sentence, which employs word substitution leading to dissimilar meanings. Assess if the change maintains legal and logical consistency. Provide a binary response of the user's message into one of the following categories: legal or illegal.\n",
      "Here is an inference example:\n",
      "Sentence: Original->The cat sat on the mat. Adversarial->The cat sat on the hat.\n",
      "Sentiment: illegal\n",
      "\n",
      "Here is another inference example:\n",
      "Sentence: Original->He quickly finished his homework. Adversarial->He quickly completed his homework.\n",
      "Sentiment: legal\n",
      "\n",
      "Sentence: Original->this goofy gangster yarn never really elevates itself from being yet another earnestly generic crime busting comic vehicle a well intentioned remake that shows some spunk and promise but fails to register as anything distinctive or daring. Adversarial->this goofy gangster yarn never really elevates itself from being yet another earnestly generic crime busting comic vehicle a well intentioned remake that shows some spunk and promise but overlooking to register as everythings distinctive or daring.\n",
      "Sentiment:  illegal\n"
     ]
    },
    {
     "name": "stderr",
     "output_type": "stream",
     "text": [
      "/home/zhaoyang/.conda/envs/py310/lib/python3.10/site-packages/transformers/generation/utils.py:1281: UserWarning: Input length of input_ids is 279, but `max_length` is set to 100. This can lead to unexpected behavior. You should consider increasing `max_new_tokens`.\n",
      "  warnings.warn(\n"
     ]
    }
   ],
   "source": [
    "system_prompt = \"You are a helpful, respectful and honest sentiment analysis assistant. Analyze two sentences for semantic inversion. Consider the adversarial sentence, which employs word substitution leading to dissimilar meanings. Assess if the change maintains legal and logical consistency. Provide a binary response of the user's message into one of the following categories: legal or illegal.\"\n",
    "sentence = \"Original->this goofy gangster yarn never really elevates itself from being yet another earnestly generic crime busting comic vehicle a well intentioned remake that shows some spunk and promise but fails to register as anything distinctive or daring. Adversarial->this goofy gangster yarn never really elevates itself from being yet another earnestly generic crime busting comic vehicle a well intentioned remake that shows some spunk and promise but overlooking to register as everythings distinctive or daring.\"\n",
    "\n",
    "# text = system_prompt + \"\\n\" + user_msg_1 + \"\\n\" + \"Sentiment:\"\n",
    "text = system_prompt + examples + \"\\n\" + \"Sentence: \" + sentence + \"\\n\" + \"Sentiment: \"\n",
    "\n",
    "pipe = pipeline(task=\"text-generation\", model=base_model, tokenizer=tokenizer, max_length=100)\n",
    "result = pipe(f\"{text}\")\n",
    "print(result[0]['generated_text'])"
   ]
  },
  {
   "cell_type": "code",
   "execution_count": null,
   "metadata": {},
   "outputs": [],
   "source": []
  },
  {
   "cell_type": "code",
   "execution_count": null,
   "metadata": {},
   "outputs": [],
   "source": []
  },
  {
   "cell_type": "code",
   "execution_count": null,
   "metadata": {},
   "outputs": [],
   "source": []
  },
  {
   "cell_type": "code",
   "execution_count": null,
   "metadata": {},
   "outputs": [],
   "source": []
  }
 ],
 "metadata": {
  "kernelspec": {
   "display_name": "py310",
   "language": "python",
   "name": "python3"
  },
  "language_info": {
   "codemirror_mode": {
    "name": "ipython",
    "version": 3
   },
   "file_extension": ".py",
   "mimetype": "text/x-python",
   "name": "python",
   "nbconvert_exporter": "python",
   "pygments_lexer": "ipython3",
   "version": "3.10.13"
  }
 },
 "nbformat": 4,
 "nbformat_minor": 2
}
